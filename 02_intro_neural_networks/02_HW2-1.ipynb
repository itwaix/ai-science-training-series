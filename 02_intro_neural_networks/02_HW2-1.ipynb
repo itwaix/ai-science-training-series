{
 "cells": [
  {
   "cell_type": "code",
   "execution_count": 25,
   "id": "initial_id",
   "metadata": {
    "collapsed": true,
    "ExecuteTime": {
     "end_time": "2024-02-28T03:13:12.311214Z",
     "start_time": "2024-02-28T03:13:12.296373Z"
    }
   },
   "outputs": [],
   "source": [
    "import torch\n",
    "import torch.nn as nn\n",
    "import torch.optim as optim\n",
    "from torchvision import datasets, transforms\n",
    "from torch.utils.data import DataLoader\n"
   ]
  },
  {
   "cell_type": "code",
   "outputs": [],
   "source": [
    "# Load data\n",
    "transforms = transforms.Compose([\n",
    "    transforms.ToTensor(),\n",
    "    transforms.Normalize((0.5,), (0.5,))\n",
    "])"
   ],
   "metadata": {
    "collapsed": false,
    "ExecuteTime": {
     "end_time": "2024-02-28T03:13:12.358368Z",
     "start_time": "2024-02-28T03:13:12.342395Z"
    }
   },
   "id": "9c63fd7e7df7eb6a",
   "execution_count": 26
  },
  {
   "cell_type": "code",
   "outputs": [],
   "source": [
    "train_data = datasets.MNIST(\n",
    "    root=\"data\",\n",
    "    train=True,\n",
    "    download=True,\n",
    "    transform=transforms\n",
    ")\n",
    "\n",
    "test_data = datasets.MNIST(\n",
    "    root=\"data\",\n",
    "    train=False,\n",
    "    download=True,\n",
    "    transform=transforms\n",
    ")\n"
   ],
   "metadata": {
    "collapsed": false,
    "ExecuteTime": {
     "end_time": "2024-02-28T03:13:12.419288Z",
     "start_time": "2024-02-28T03:13:12.359439Z"
    }
   },
   "id": "9c0787ca9b181467",
   "execution_count": 27
  },
  {
   "cell_type": "code",
   "outputs": [],
   "source": [
    "train_data, validation_data = torch.utils.data.random_split(train_data, [0.8, 0.2], generator=torch.Generator().manual_seed(55))"
   ],
   "metadata": {
    "collapsed": false,
    "ExecuteTime": {
     "end_time": "2024-02-28T03:13:12.435004Z",
     "start_time": "2024-02-28T03:13:12.421362Z"
    }
   },
   "id": "e9577e5dd1f4ccfd",
   "execution_count": 28
  },
  {
   "cell_type": "code",
   "outputs": [],
   "source": [
    "batch_size = 128\n",
    "train_loader = DataLoader(train_data, batch_size=batch_size, shuffle=True)\n",
    "validation_loader = DataLoader(validation_data, batch_size=batch_size, shuffle=False)"
   ],
   "metadata": {
    "collapsed": false,
    "ExecuteTime": {
     "end_time": "2024-02-28T03:13:12.450099Z",
     "start_time": "2024-02-28T03:13:12.437146Z"
    }
   },
   "id": "434f3edff8dd479f",
   "execution_count": 29
  },
  {
   "cell_type": "code",
   "outputs": [],
   "source": [
    "class NonlinearClassifier(nn.Module):\n",
    "\n",
    "    def __init__(self):\n",
    "        super().__init__()\n",
    "        self.flatten = nn.Flatten()\n",
    "        self.layers_stack = nn.Sequential(\n",
    "            nn.Linear(28*28, 50),\n",
    "            nn.ReLU(),\n",
    "            #nn.Dropout(0.2),\n",
    "            nn.Linear(50, 50),\n",
    "            nn.ReLU(),\n",
    "            #nn.Dropout(0.2),\n",
    "            nn.Linear(50, 10)\n",
    "        )\n",
    "\n",
    "    def forward(self, x):\n",
    "        x = self.flatten(x)\n",
    "        x = self.layers_stack(x)\n",
    "\n",
    "        return x"
   ],
   "metadata": {
    "collapsed": false,
    "ExecuteTime": {
     "end_time": "2024-02-28T03:13:12.465167Z",
     "start_time": "2024-02-28T03:13:12.452338Z"
    }
   },
   "id": "533bda47ce645a05",
   "execution_count": 30
  },
  {
   "cell_type": "code",
   "outputs": [],
   "source": [
    "def train_one_epoch(dataloader, model, loss_fn, optimizer):\n",
    "    model.train()\n",
    "\n",
    "    for batch, (X, y) in enumerate(dataloader):\n",
    "        pred = model(X)\n",
    "\n",
    "        loss = loss_fn(pred, y)\n",
    "\n",
    "        loss.backward()\n",
    "\n",
    "        optimizer.step()\n",
    "\n",
    "        optimizer.zero_grad()"
   ],
   "metadata": {
    "collapsed": false,
    "ExecuteTime": {
     "end_time": "2024-02-28T03:13:12.480998Z",
     "start_time": "2024-02-28T03:13:12.467231Z"
    }
   },
   "id": "8c126a7a5315b7bb",
   "execution_count": 31
  },
  {
   "cell_type": "code",
   "outputs": [],
   "source": [
    "def evaluate(dataloader, model, loss_fn):\n",
    "    model.eval()\n",
    "    num_batches = len(dataloader)\n",
    "    correct, loss = 0.0, 0.0\n",
    "    \n",
    "    with torch.no_grad():\n",
    "        for X, y in dataloader:\n",
    "            pred = model(X)\n",
    "            loss += loss_fn(pred, y).item()\n",
    "            correct += (pred.argmax(1) == y).type(torch.float).sum().item()\n",
    "            \n",
    "    loss /= num_batches\n",
    "    correct /= num_batches\n",
    "    accuracy = 100.0 * correct \n",
    "    \n",
    "    return accuracy, loss\n",
    "            "
   ],
   "metadata": {
    "collapsed": false,
    "ExecuteTime": {
     "end_time": "2024-02-28T03:13:12.496924Z",
     "start_time": "2024-02-28T03:13:12.482888Z"
    }
   },
   "id": "fb7b9907785d526b",
   "execution_count": 32
  },
  {
   "cell_type": "markdown",
   "source": [
    "In this problem, using the **Adam optimizer** may be superior to SGD.\n",
    "Adam can adaptively adjust the learning rate for each parameter, which means optimizing the update speed for different parameters. \n",
    "\n",
    "For complex deep learning models, different parameters may exhibit significant differences in features, so adaptive learning rate adjustment can more effectively converge the model to the optimal solution.\n",
    "\n",
    "Meanwhile, we use NonlinearClassifier instead of linear."
   ],
   "metadata": {
    "collapsed": false
   },
   "id": "5201d6c5fd3e2b4"
  },
  {
   "cell_type": "code",
   "outputs": [],
   "source": [
    "nonlinear_model = NonlinearClassifier()\n",
    "loss_fn = nn.CrossEntropyLoss()\n",
    "optimizer = optim.Adam(nonlinear_model.parameters(), lr=0.0001)"
   ],
   "metadata": {
    "collapsed": false,
    "ExecuteTime": {
     "end_time": "2024-02-28T03:13:12.512109Z",
     "start_time": "2024-02-28T03:13:12.498150Z"
    }
   },
   "id": "342f4d6f1c039e81",
   "execution_count": 33
  },
  {
   "cell_type": "code",
   "outputs": [
    {
     "name": "stdout",
     "output_type": "stream",
     "text": [
      "Epoch 0: training loss: 0.8515109914414426, accuracy: 10255.31914893617\n",
      "Epoch 1: training loss: 0.49639235373507157, accuracy: 11104.255319148937\n",
      "Epoch 2: training loss: 0.3944193318169168, accuracy: 11376.595744680852\n",
      "Epoch 3: training loss: 0.3474557436210044, accuracy: 11493.617021276596\n",
      "Epoch 4: training loss: 0.3170074398847336, accuracy: 11620.212765957447\n",
      "Epoch 5: training loss: 0.2969891703192224, accuracy: 11667.021276595744\n",
      "Epoch 6: training loss: 0.2802999181316254, accuracy: 11711.702127659575\n",
      "Epoch 7: training loss: 0.26866967516376616, accuracy: 11754.255319148937\n",
      "Epoch 8: training loss: 0.2573510560583561, accuracy: 11788.297872340425\n",
      "Epoch 9: training loss: 0.24700508155721299, accuracy: 11838.297872340425\n"
     ]
    }
   ],
   "source": [
    "epochs = 10\n",
    "for j in range(epochs) :\n",
    "    train_one_epoch(train_loader, nonlinear_model, loss_fn, optimizer)\n",
    "\n",
    "    acc, loss = evaluate(validation_loader, nonlinear_model, loss_fn)\n",
    "    print(f\"Epoch {j}: training loss: {loss}, accuracy: {acc}\")"
   ],
   "metadata": {
    "collapsed": false,
    "ExecuteTime": {
     "end_time": "2024-02-28T03:14:42.794655Z",
     "start_time": "2024-02-28T03:13:12.513565Z"
    }
   },
   "id": "cec40612c2aae7a2",
   "execution_count": 34
  },
  {
   "cell_type": "code",
   "outputs": [],
   "source": [],
   "metadata": {
    "collapsed": false,
    "ExecuteTime": {
     "end_time": "2024-02-28T03:14:42.810635Z",
     "start_time": "2024-02-28T03:14:42.795725Z"
    }
   },
   "id": "ad19e2fcee024fd0",
   "execution_count": 34
  }
 ],
 "metadata": {
  "kernelspec": {
   "display_name": "Python 3",
   "language": "python",
   "name": "python3"
  },
  "language_info": {
   "codemirror_mode": {
    "name": "ipython",
    "version": 2
   },
   "file_extension": ".py",
   "mimetype": "text/x-python",
   "name": "python",
   "nbconvert_exporter": "python",
   "pygments_lexer": "ipython2",
   "version": "2.7.6"
  }
 },
 "nbformat": 4,
 "nbformat_minor": 5
}
